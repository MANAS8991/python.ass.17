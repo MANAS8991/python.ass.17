{
 "cells": [
  {
   "cell_type": "markdown",
   "id": "cd54dc47",
   "metadata": {},
   "source": [
    "# 1. Assign the value 7 to the variable guess_me. Then, write the conditional tests (if, else, and elif) to print the string 'too low' if guess_me is less than 7, 'too high' if greater than 7, and 'just right' if equal to 7."
   ]
  },
  {
   "cell_type": "code",
   "execution_count": null,
   "id": "d8a7e947",
   "metadata": {},
   "outputs": [],
   "source": [
    "You can assign the value 7 to the variable guess_me and then use conditional statements to print the corresponding string based on its value. Here's an example:\n",
    "guess_me = 7\n",
    "\n",
    "if guess_me < 7:\n",
    "    print('too low')\n",
    "elif guess_me > 7:\n",
    "    print('too high')\n",
    "else:\n",
    "    print('just right')\n",
    "\n",
    "    \n",
    "In this code, the variable guess_me is assigned the value 7. The if statement checks if guess_me is less than 7 and prints 'too low' if it is. The elif statement checks if guess_me is greater than 7 and prints 'too high' if it is. If neither of these conditions is true, the else statement is executed and 'just right' is printed.\n",
    "\n",
    "Since guess_me is equal to 7 in this case, the output will be:  just right\n",
    "This indicates that the value of guess_me is equal to 7.\n",
    "    "
   ]
  },
  {
   "cell_type": "markdown",
   "id": "dd2a5ea6",
   "metadata": {},
   "source": [
    "# 2. Assign the value 7 to the variable guess_me and the value 1 to the variable start. Write a while loop that compares start with guess_me. Print too low if start is less than guess me. If start equals guess_me, print 'found it!' and exit the loop. If start is greater than guess_me, print 'oops' and exit the loop. Increment start at the end of the loop."
   ]
  },
  {
   "cell_type": "code",
   "execution_count": null,
   "id": "830c0985",
   "metadata": {},
   "outputs": [],
   "source": [
    "You can assign the value 7 to the variable guess_me and the value 1 to the variable start. Then, you can use a while loop to compare start with guess_me and print the corresponding messages. Here's an example:\n",
    "guess_me = 7\n",
    "start = 1\n",
    "\n",
    "while True:\n",
    "    if start < guess_me:\n",
    "        print('too low')\n",
    "    elif start == guess_me:\n",
    "        print('found it!')\n",
    "        break\n",
    "    else:\n",
    "        print('oops')\n",
    "        break\n",
    "    start += 1\n",
    "\n",
    "In this code, the while loop runs indefinitely (while True) until a break statement is encountered. Inside the loop, the if, elif, and else statements check the conditions and print the appropriate messages. If start is less than guess_me, it prints 'too low'. If start is equal to guess_me, it prints 'found it!' and exits the loop using break. If start is greater than guess_me, it prints 'oops' and exits the loop using break. At the end of each iteration, start is incremented by 1 using start += 1.\n",
    "\n",
    "The output will be:\n",
    "too low\n",
    "too low\n",
    "too low\n",
    "too low\n",
    "too low\n",
    "too low\n",
    "found it!\n",
    "As you can see, the loop runs until start is equal to guess_me, and then it prints 'found it!' and stops."
   ]
  },
  {
   "cell_type": "markdown",
   "id": "fa0467cd",
   "metadata": {},
   "source": [
    "# 3. Print the following values of the list [3, 2, 1, 0] using a for loop."
   ]
  },
  {
   "cell_type": "code",
   "execution_count": null,
   "id": "4ccfbc3f",
   "metadata": {},
   "outputs": [],
   "source": [
    "You can use a for loop to iterate over the elements of the list [3, 2, 1, 0] and print each value. Here's an example:\n",
    "my_list = [3, 2, 1, 0]\n",
    "\n",
    "for value in my_list:\n",
    "    print(value)\n",
    "\n",
    "In this code, the for loop iterates over each element in the my_list list. The variable value takes on the value of each element in each iteration, and it is printed using the print() function.\n",
    "\n",
    "The output will be:\n",
    "3\n",
    "2\n",
    "1\n",
    "0\n",
    "As you can see, each value in the list [3, 2, 1, 0] is printed on a separate line using the for loop."
   ]
  },
  {
   "cell_type": "markdown",
   "id": "ac19df2c",
   "metadata": {},
   "source": [
    "# 4. Use a list comprehension to make a list of the even numbers in range(10)"
   ]
  },
  {
   "cell_type": "code",
   "execution_count": null,
   "id": "73914db0",
   "metadata": {},
   "outputs": [],
   "source": [
    "You can use a list comprehension to create a list of even numbers in the range from 0 to 9 (range(10)). Here's an example:\n",
    "even_numbers = [num for num in range(10) if num % 2 == 0]\n",
    "print(even_numbers)\n",
    "\n",
    "In this code, the list comprehension [num for num in range(10) if num % 2 == 0] generates a list by iterating over each number in the range from 0 to 9. The if condition num % 2 == 0 checks if the number is even, and only the even numbers are included in the resulting list.\n",
    "\n",
    "The output will be:\n",
    "    [0, 2, 4, 6, 8]\n",
    "As you can see, the list comprehension generates a list of even numbers from 0 to 8."
   ]
  },
  {
   "cell_type": "markdown",
   "id": "235115db",
   "metadata": {},
   "source": [
    "# 5. Use a dictionary comprehension to create the dictionary squares. Use range(10) to return the keys, and use the square of each key as its value."
   ]
  },
  {
   "cell_type": "code",
   "execution_count": null,
   "id": "a8b65cf8",
   "metadata": {},
   "outputs": [],
   "source": [
    "You can use a dictionary comprehension to create a dictionary called squares where the keys are numbers from 0 to 9 (range(10)) and the values are the squares of the keys. Here's an example:\n",
    "squares = {num: num**2 for num in range(10)}\n",
    "print(squares)\n",
    "\n",
    "In this code, the dictionary comprehension {num: num**2 for num in range(10)} generates a dictionary by iterating over each number in the range from 0 to 9. The key-value pairs are defined as num: num**2, where num is the key and num**2 is the square of the key.\n",
    "\n",
    "The output will be: {0: 0, 1: 1, 2: 4, 3: 9, 4: 16, 5: 25, 6: 36, 7: 49, 8: 64, 9: 81}\n",
    "As you can see, the dictionary squares is created with keys ranging from 0 to 9 and the corresponding values as their squares."
   ]
  },
  {
   "cell_type": "markdown",
   "id": "55191303",
   "metadata": {},
   "source": [
    "# 6. Construct the set odd from the odd numbers in the range using a set comprehension (10)."
   ]
  },
  {
   "cell_type": "code",
   "execution_count": null,
   "id": "2f63bd7d",
   "metadata": {},
   "outputs": [],
   "source": [
    "You can use a set comprehension to create a set called odd containing the odd numbers from the range of 0 to 9 (range(10)). Here's an example:\n",
    "odd = {num for num in range(10) if num % 2 != 0}\n",
    "print(odd)\n",
    "In this code, the set comprehension {num for num in range(10) if num % 2 != 0} generates a set by iterating over each number in the range from 0 to 9. The if condition num % 2 != 0 checks if the number is odd, and only the odd numbers are included in the resulting set.\n",
    "\n",
    "The output will be:   {1, 3, 5, 7, 9}\n",
    " The set comprehension generates a set of odd numbers from 1 to 9."
   ]
  },
  {
   "cell_type": "markdown",
   "id": "e404a774",
   "metadata": {},
   "source": [
    "# 7. Use a generator comprehension to return the string 'Got ' and a number for the numbers in range(10). Iterate through this by using a for loop."
   ]
  },
  {
   "cell_type": "code",
   "execution_count": null,
   "id": "46072b8a",
   "metadata": {},
   "outputs": [],
   "source": [
    "You can use a generator comprehension to create a generator that yields strings with the pattern 'Got X' for each number in the range from 0 to 9 (range(10)). Then, you can iterate through the generator using a for loop. Here's an example:\n",
    "generator = ('Got ' + str(num) for num in range(10))\n",
    "\n",
    "for item in generator:\n",
    "    print(item)\n",
    "\n",
    "In this code, the generator comprehension ('Got ' + str(num) for num in range(10)) generates a generator that yields strings in the format 'Got X', where 'X' is each number in the range from 0 to 9. The str(num) converts the number to a string so that it can be concatenated with the 'Got ' string.\n",
    "\n",
    "The for loop iterates through the generator and prints each item yielded by the generator using the print() function. \n",
    "Output: \n",
    "Got 0\n",
    "Got 1\n",
    "Got 2\n",
    "Got 3\n",
    "Got 4\n",
    "Got 5\n",
    "Got 6\n",
    "Got 7\n",
    "Got 8\n",
    "Got 9\n",
    "As you can see, the for loop iterates through the generator and prints each string with the pattern 'Got X' for each number in the range."
   ]
  },
  {
   "cell_type": "markdown",
   "id": "13b81d23",
   "metadata": {},
   "source": [
    "# 8. Define a function called good that returns the list ['Harry', 'Ron', 'Hermione']."
   ]
  },
  {
   "cell_type": "code",
   "execution_count": null,
   "id": "5bd625da",
   "metadata": {},
   "outputs": [],
   "source": [
    "You can define a function called good that returns the list ['Harry', 'Ron', 'Hermione'] using the return statement. Here's an example:\n",
    "def good():\n",
    "    return ['Harry', 'Ron', 'Hermione']\n",
    "\n",
    "# Call the function\n",
    "result = good()\n",
    "print(result)\n",
    "\n",
    "In this code, the good function is defined with no arguments. When the function is called, it simply returns the list ['Harry', 'Ron', 'Hermione'].\n",
    "\n",
    "The output will be:  ['Harry', 'Ron', 'Hermione']\n",
    "As you can see, calling the good function returns the list ['Harry', 'Ron', 'Hermione']."
   ]
  },
  {
   "cell_type": "markdown",
   "id": "2d4108f2",
   "metadata": {},
   "source": [
    "# 9. Define a generator function called get_odds that returns the odd numbers from range(10). Use a for loop to find and print the third value returned."
   ]
  },
  {
   "cell_type": "code",
   "execution_count": null,
   "id": "2f7e51ca",
   "metadata": {},
   "outputs": [],
   "source": [
    "You can define a generator function called get_odds that yields the odd numbers from the range of 0 to 9 (range(10)). Then, you can use a for loop to find and print the third value returned by the generator. Here's an example:\n",
    "def get_odds():\n",
    "    for num in range(10):\n",
    "        if num % 2 != 0:\n",
    "            yield num\n",
    "\n",
    "# Iterate through the generator and find the third value\n",
    "count = 0\n",
    "for value in get_odds():\n",
    "    count += 1\n",
    "    if count == 3:\n",
    "        print(value)\n",
    "        break\n",
    "\n",
    "In this code, the get_odds generator function is defined. It uses a for loop to iterate over the range from 0 to 9, and the if condition num % 2 != 0 checks if the number is odd. If it is, the yield statement yields the odd number.\n",
    "\n",
    "The for loop iterates through the generator and keeps track of the count. When the count reaches 3, the corresponding value is printed using the print() function, and then the loop is exited using the break statement.\n",
    "\n",
    "The output will be:  5\n",
    "As you can see, the third odd number returned by the generator is 5, and it is printed within the for loop."
   ]
  },
  {
   "cell_type": "markdown",
   "id": "c8964199",
   "metadata": {},
   "source": [
    "# 10. Define an exception called OopsException. Raise this exception to see what happens. Then write the code to catch this exception and print 'Caught an oops'."
   ]
  },
  {
   "cell_type": "code",
   "execution_count": null,
   "id": "e735a287",
   "metadata": {},
   "outputs": [],
   "source": [
    "You can define an exception called OopsException by creating a custom class that inherits from the Exception class. Then, you can raise this exception to see what happens. Finally, you can write code to catch the exception using a try-except block and print the message 'Caught an oops'. Here's an example:\n",
    "class OopsException(Exception):\n",
    "    pass\n",
    "\n",
    "# Raise the OopsException\n",
    "raise OopsException\n",
    "\n",
    "# Catch the OopsException and print the message\n",
    "try:\n",
    "    raise OopsException\n",
    "except OopsException:\n",
    "    print('Caught an oops')\n",
    "\n",
    "In this code, the OopsException is defined as a custom exception class that inherits from the Exception class. When the raise statement is encountered, it raises the OopsException exception.\n",
    "\n",
    "The try-except block is used to catch the OopsException. If the exception is raised, the code within the except block is executed, which in this case simply prints the message 'Caught an oops'.\n",
    "\n",
    "The output will be: Caught an oops\n",
    "As you can see, when the OopsException is raised, it is caught by the except block, and the message 'Caught an oops' is printed."
   ]
  },
  {
   "cell_type": "markdown",
   "id": "8a9b3dd1",
   "metadata": {},
   "source": [
    "# 10. Define an exception called OopsException. Raise this exception to see what happens. Then write the code to catch this exception and print 'Caught an oops'."
   ]
  },
  {
   "cell_type": "code",
   "execution_count": null,
   "id": "61fc0fef",
   "metadata": {},
   "outputs": [],
   "source": [
    "Certainly! Here's an example that defines the OopsException exception, raises it, and catches it to print the message 'Caught an oops':\n",
    "class OopsException(Exception):\n",
    "    pass\n",
    "\n",
    "try:\n",
    "    raise OopsException\n",
    "except OopsException:\n",
    "    print('Caught an oops')\n",
    "\n",
    "    \n",
    "In this code, the OopsException class is defined by creating a custom exception class that inherits from the Exception class. When the raise statement is encountered, it raises the OopsException exception.\n",
    "\n",
    "The try-except block is used to catch the OopsException specifically. If the exception is raised, the code within the except block is executed, which in this case simply prints the message 'Caught an oops'.\n",
    "\n",
    "When you run this code, the output will be:  Caught an oops\n",
    "As you can see, the exception is raised and caught, allowing the code within the except block to execute and print the desired message."
   ]
  },
  {
   "cell_type": "markdown",
   "id": "58f8a847",
   "metadata": {},
   "source": [
    "# 11. Use zip() to make a dictionary called movies that pairs these lists: titles = ['Creature of Habit', 'Crewel Fate'] and plots = ['A nun turns into a monster', 'A haunted yarn shop']."
   ]
  },
  {
   "cell_type": "code",
   "execution_count": null,
   "id": "69077c65",
   "metadata": {},
   "outputs": [],
   "source": [
    "You can use the zip() function along with the dict() function to create a dictionary called movies by pairing the titles and plots lists. Here's an example:\n",
    "titles = ['Creature of Habit', 'Crewel Fate']\n",
    "plots = ['A nun turns into a monster', 'A haunted yarn shop']\n",
    "\n",
    "movies = dict(zip(titles, plots))\n",
    "print(movies)\n",
    "\n",
    "In this code, the zip() function combines the corresponding elements of the titles and plots lists into tuples. The dict() function is then used to convert the tuples into key-value pairs, creating the dictionary movies.\n",
    "\n",
    "The output will be:  {'Creature of Habit': 'A nun turns into a monster', 'Crewel Fate': 'A haunted yarn shop'}\n",
    "\n",
    "As you can see, the movies dictionary is created by pairing the titles with their respective plots."
   ]
  }
 ],
 "metadata": {
  "kernelspec": {
   "display_name": "Python 3 (ipykernel)",
   "language": "python",
   "name": "python3"
  },
  "language_info": {
   "codemirror_mode": {
    "name": "ipython",
    "version": 3
   },
   "file_extension": ".py",
   "mimetype": "text/x-python",
   "name": "python",
   "nbconvert_exporter": "python",
   "pygments_lexer": "ipython3",
   "version": "3.9.12"
  }
 },
 "nbformat": 4,
 "nbformat_minor": 5
}
